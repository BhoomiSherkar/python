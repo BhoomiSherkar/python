{
  "nbformat": 4,
  "nbformat_minor": 0,
  "metadata": {
    "colab": {
      "provenance": [],
      "include_colab_link": true
    },
    "kernelspec": {
      "name": "python3",
      "display_name": "Python 3"
    },
    "language_info": {
      "name": "python"
    }
  },
  "cells": [
    {
      "cell_type": "markdown",
      "metadata": {
        "id": "view-in-github",
        "colab_type": "text"
      },
      "source": [
        "<a href=\"https://colab.research.google.com/github/BhoomiSherkar/python/blob/main/EXP7.ipynb\" target=\"_parent\"><img src=\"https://colab.research.google.com/assets/colab-badge.svg\" alt=\"Open In Colab\"/></a>"
      ]
    },
    {
      "cell_type": "code",
      "execution_count": 2,
      "metadata": {
        "id": "TYmL9_eTD067",
        "outputId": "a7a85112-e971-4417-de64-c8700f97369a",
        "colab": {
          "base_uri": "https://localhost:8080/",
          "height": 383
        }
      },
      "outputs": [
        {
          "output_type": "error",
          "ename": "ModuleNotFoundError",
          "evalue": "No module named 'mysql'",
          "traceback": [
            "\u001b[0;31m---------------------------------------------------------------------------\u001b[0m",
            "\u001b[0;31mModuleNotFoundError\u001b[0m                       Traceback (most recent call last)",
            "\u001b[0;32m<ipython-input-2-d6439622fb43>\u001b[0m in \u001b[0;36m<cell line: 1>\u001b[0;34m()\u001b[0m\n\u001b[0;32m----> 1\u001b[0;31m \u001b[0;32mimport\u001b[0m \u001b[0mmysql\u001b[0m\u001b[0;34m.\u001b[0m\u001b[0mconnector\u001b[0m\u001b[0;34m\u001b[0m\u001b[0;34m\u001b[0m\u001b[0m\n\u001b[0m\u001b[1;32m      2\u001b[0m \u001b[0;34m\u001b[0m\u001b[0m\n\u001b[1;32m      3\u001b[0m \u001b[0;32mdef\u001b[0m \u001b[0mconnect_to_database\u001b[0m\u001b[0;34m(\u001b[0m\u001b[0;34m)\u001b[0m\u001b[0;34m:\u001b[0m\u001b[0;34m\u001b[0m\u001b[0;34m\u001b[0m\u001b[0m\n\u001b[1;32m      4\u001b[0m     \u001b[0;32mtry\u001b[0m\u001b[0;34m:\u001b[0m\u001b[0;34m\u001b[0m\u001b[0;34m\u001b[0m\u001b[0m\n\u001b[1;32m      5\u001b[0m         connection = mysql.connector.connect(\n",
            "\u001b[0;31mModuleNotFoundError\u001b[0m: No module named 'mysql'",
            "",
            "\u001b[0;31m---------------------------------------------------------------------------\u001b[0;32m\nNOTE: If your import is failing due to a missing package, you can\nmanually install dependencies using either !pip or !apt.\n\nTo view examples of installing some common dependencies, click the\n\"Open Examples\" button below.\n\u001b[0;31m---------------------------------------------------------------------------\u001b[0m\n"
          ],
          "errorDetails": {
            "actions": [
              {
                "action": "open_url",
                "actionText": "Open Examples",
                "url": "/notebooks/snippets/importing_libraries.ipynb"
              }
            ]
          }
        }
      ],
      "source": [
        "import mysql.connector\n",
        "\n",
        "def connect_to_database():\n",
        "    try:\n",
        "        connection = mysql.connector.connect(\n",
        "            host=\"localhost\",\n",
        "            user=\"root\",\n",
        "            password=\"root\"\n",
        "        )\n",
        "        print(\"Connected to MySQL server!\")\n",
        "        return connection\n",
        "    except mysql.connector.Error as e:\n",
        "        print(\"Error connecting to MySQL server:\", e)\n",
        "        return None\n",
        "\n",
        "def create_database(connection, database_name):\n",
        "    cursor = connection.cursor()\n",
        "    cursor.execute(f\"CREATE DATABASE IF NOT EXISTS {database_name}\")\n",
        "    print(f\"Database '{database_name}' created successfully!\")\n",
        "\n",
        "def create_table(connection, database_name):\n",
        "    try:\n",
        "        cursor = connection.cursor()\n",
        "        cursor.execute(f\"USE {database_name}\")\n",
        "        cursor.execute(\"\"\"\n",
        "            CREATE TABLE IF NOT EXISTS users (\n",
        "                id INT AUTO_INCREMENT PRIMARY KEY,\n",
        "                name VARCHAR(255),\n",
        "                email VARCHAR(255)\n",
        "            )\n",
        "        \"\"\")\n",
        "        connection.commit()\n",
        "        print(\"Table 'users' created successfully!\")\n",
        "    except mysql.connector.Error as e:\n",
        "        print(\"Error creating table:\", e)\n",
        "\n",
        "def main():\n",
        "    connection = connect_to_database()\n",
        "    if connection:\n",
        "        database_name = \"your_database\"\n",
        "        create_database(connection, database_name)\n",
        "        create_table(connection, database_name)\n",
        "        connection.close()\n",
        "        print(\"\\nConnection closed.\")\n",
        "\n",
        "if __name__ == \"__main__\":\n",
        "    main()"
      ]
    },
    {
      "cell_type": "code",
      "source": [],
      "metadata": {
        "id": "0abRn9TUif7P"
      },
      "execution_count": null,
      "outputs": []
    }
  ]
}