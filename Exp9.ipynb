{
  "nbformat": 4,
  "nbformat_minor": 0,
  "metadata": {
    "colab": {
      "provenance": [],
      "include_colab_link": true
    },
    "kernelspec": {
      "name": "python3",
      "display_name": "Python 3"
    },
    "language_info": {
      "name": "python"
    }
  },
  "cells": [
    {
      "cell_type": "markdown",
      "metadata": {
        "id": "view-in-github",
        "colab_type": "text"
      },
      "source": [
        "<a href=\"https://colab.research.google.com/github/BhoomiSherkar/python/blob/main/Exp9.ipynb\" target=\"_parent\"><img src=\"https://colab.research.google.com/assets/colab-badge.svg\" alt=\"Open In Colab\"/></a>"
      ]
    },
    {
      "cell_type": "code",
      "execution_count": 1,
      "metadata": {
        "id": "9FymrzQt_waT"
      },
      "outputs": [],
      "source": [
        "import threading"
      ]
    },
    {
      "cell_type": "code",
      "source": [
        "def print_cube(num):\n",
        "\tprint(\"Cube: {}\" .format(num * num * num))\n",
        "\n",
        "\n",
        "def print_square(num):\n",
        "\tprint(\"Square: {}\" .format(num * num))\n",
        "\n",
        "\n",
        "if __name__ ==\"__main__\":\n",
        "\tt0 = threading.Thread(target=print_square, args=(20,))\n",
        "\tt1 = threading.Thread(target=print_cube, args=(30,))\n",
        "\n",
        "\tt0.start()\n",
        "\tt1.start()\n",
        "\n",
        "\tt0.join()\n",
        "\tt1.join()\n",
        "\n",
        "\tprint(\"Executed!\")"
      ],
      "metadata": {
        "colab": {
          "base_uri": "https://localhost:8080/"
        },
        "id": "HIMdsprQ_3Ii",
        "outputId": "3cee1f96-7c2c-44d1-9a9c-1a35ac733203"
      },
      "execution_count": 2,
      "outputs": [
        {
          "output_type": "stream",
          "name": "stdout",
          "text": [
            "Square: 400\n",
            "Cube: 27000\n",
            "Executed!\n"
          ]
        }
      ]
    },
    {
      "cell_type": "code",
      "source": [
        "import os"
      ],
      "metadata": {
        "id": "ZdhVrfkqAckM"
      },
      "execution_count": 3,
      "outputs": []
    },
    {
      "cell_type": "code",
      "source": [
        "def task0():\n",
        "    print(\"Task 0 assigned to thread: {}\".format(threading.current_thread().name))\n",
        "    print(\"ID of process running task 0: {}\".format(os.getpid()))\n",
        "\n",
        "def task1():\n",
        "    print(\"Task 1 assigned to thread: {}\".format(threading.current_thread().name))\n",
        "    print(\"ID of process running task 1: {}\".format(os.getpid()))\n",
        "\n",
        "if __name__ == \"__main__\":\n",
        "\n",
        "    print(\"ID of process running main program: {}\".format(os.getpid()))\n",
        "\n",
        "    print(\"Main thread name: {}\".format(threading.current_thread().name))\n",
        "\n",
        "    t1 = threading.Thread(target=task0, name='t1')\n",
        "    t2 = threading.Thread(target=task1, name='t2')\n",
        "\n",
        "    t1.start()\n",
        "    t2.start()\n",
        "\n",
        "    t1.join()\n",
        "    t2.join()"
      ],
      "metadata": {
        "colab": {
          "base_uri": "https://localhost:8080/"
        },
        "id": "MORuIG7RAlUQ",
        "outputId": "88972ca9-35f2-427a-dac2-b6211da9b871"
      },
      "execution_count": 4,
      "outputs": [
        {
          "output_type": "stream",
          "name": "stdout",
          "text": [
            "ID of process running main program: 156\n",
            "Main thread name: MainThread\n",
            "Task 0 assigned to thread: t1\n",
            "ID of process running task 0: 156\n",
            "Task 1 assigned to thread: t2\n",
            "ID of process running task 1: 156\n"
          ]
        }
      ]
    },
    {
      "cell_type": "code",
      "source": [],
      "metadata": {
        "id": "gLd7FawXA9yt"
      },
      "execution_count": null,
      "outputs": []
    }
  ]
}